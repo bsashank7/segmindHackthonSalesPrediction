{
  "nbformat": 4,
  "nbformat_minor": 0,
  "metadata": {
    "colab": {
      "name": "Segmind_hackathon_sales_prediction.ipynb",
      "provenance": []
    },
    "kernelspec": {
      "name": "python3",
      "display_name": "Python 3"
    },
    "language_info": {
      "name": "python"
    },
    "accelerator": "GPU"
  },
  "cells": [
    {
      "cell_type": "code",
      "metadata": {
        "id": "u-qwE8-nKKWB"
      },
      "source": [
        "from sklearn.model_selection import GridSearchCV\n",
        "from sklearn.ensemble import RandomForestRegressor\n",
        "from sklearn.metrics import mean_squared_error\n",
        "from xgboost import XGBRegressor\n",
        "import pandas as pd\n",
        "import numpy as np"
      ],
      "execution_count": null,
      "outputs": []
    },
    {
      "cell_type": "code",
      "metadata": {
        "id": "gYz5PxeEngbl"
      },
      "source": [
        "test=pd.read_csv('TEST.csv',low_memory=False)"
      ],
      "execution_count": null,
      "outputs": []
    },
    {
      "cell_type": "code",
      "metadata": {
        "id": "Zn2fY1WYKk2E"
      },
      "source": [
        "train=pd.read_csv('TRAIN.csv',low_memory=False)\n",
        "test=pd.read_csv('TEST.csv',low_memory=False)\n",
        "\n",
        "dates=pd.to_datetime(train['DayOfWeek'])\n",
        "\n",
        "month=dates.dt.month\n",
        "year=dates.dt.year\n",
        "day=dates.dt.day\n",
        "\n",
        "train['Month']=month\n",
        "train['Day']=day\n",
        "train['Year']=year\n",
        "\n",
        "train.drop('Date',inplace=True,axis=1)\n",
        "train.drop('Store',inplace=True,axis=1)"
      ],
      "execution_count": null,
      "outputs": []
    },
    {
      "cell_type": "code",
      "metadata": {
        "id": "ReC0pUSGLVM6"
      },
      "source": [
        "train['SchoolHoliday']=train['SchoolHoliday'].astype('category')\n",
        "train['DayOfWeek']=train['DayOfWeek'].astype('category')\n",
        "train['Month']=train['Month'].astype('category')\n",
        "train['Day']=train['Day'].astype('category')\n",
        "train['Year']=train['Year'].astype('category')"
      ],
      "execution_count": null,
      "outputs": []
    },
    {
      "cell_type": "code",
      "metadata": {
        "id": "vhcE1kHsLmLb"
      },
      "source": [
        "train.info()"
      ],
      "execution_count": null,
      "outputs": []
    },
    {
      "cell_type": "code",
      "metadata": {
        "id": "5V5Q2G69MBkG"
      },
      "source": [
        "train=pd.get_dummies(data=train,drop_first=True)"
      ],
      "execution_count": null,
      "outputs": []
    },
    {
      "cell_type": "code",
      "metadata": {
        "id": "k5dkzuuJM-Ym"
      },
      "source": [
        "target=train.pop('Sales')"
      ],
      "execution_count": null,
      "outputs": []
    },
    {
      "cell_type": "code",
      "metadata": {
        "colab": {
          "base_uri": "https://localhost:8080/"
        },
        "id": "-rLn3jCRM_iC",
        "outputId": "0ea45c35-cf39-40a9-c072-bab79e034b74"
      },
      "source": [
        "RFr=XGBRegressor(n_estimators=500,n_jobs=-1)\n",
        "\n",
        "RFr.fit(train,target)\n"
      ],
      "execution_count": null,
      "outputs": [
        {
          "output_type": "stream",
          "text": [
            "[13:47:40] WARNING: /workspace/src/objective/regression_obj.cu:152: reg:linear is now deprecated in favor of reg:squarederror.\n"
          ],
          "name": "stdout"
        },
        {
          "output_type": "execute_result",
          "data": {
            "text/plain": [
              "XGBRegressor(base_score=0.5, booster='gbtree', colsample_bylevel=1,\n",
              "             colsample_bynode=1, colsample_bytree=1, gamma=0,\n",
              "             importance_type='gain', learning_rate=0.1, max_delta_step=0,\n",
              "             max_depth=3, min_child_weight=1, missing=None, n_estimators=500,\n",
              "             n_jobs=-1, nthread=None, objective='reg:linear', random_state=0,\n",
              "             reg_alpha=0, reg_lambda=1, scale_pos_weight=1, seed=None,\n",
              "             silent=None, subsample=1, verbosity=1)"
            ]
          },
          "metadata": {
            "tags": []
          },
          "execution_count": 47
        }
      ]
    },
    {
      "cell_type": "code",
      "execution_count": null,
      "metadata": {},
      "outputs": [],
      "source": [
        "param_grid={'n_estimators':[100,200,300,400,500]}\n",
        "rf=RandomForestRegressor()\n",
        "gcv_rf=GridSearchCV(rf, param_grid=param_grid,cv=10)\n",
        "gcv_rf.fit(train,target)"
      ]
    },
    {
      "cell_type": "code",
      "metadata": {
        "id": "WDc2AM14QeFe"
      },
      "source": [
        "pred_train=RFr.predict(train)"
      ],
      "execution_count": null,
      "outputs": []
    },
    {
      "cell_type": "code",
      "metadata": {
        "colab": {
          "base_uri": "https://localhost:8080/"
        },
        "id": "x3yYEJslNT67",
        "outputId": "4ccababa-0bee-4bb3-e1cd-c7cd90bc1634"
      },
      "source": [
        "np.sqrt(mean_squared_error(pred_train,target))"
      ],
      "execution_count": null,
      "outputs": [
        {
          "output_type": "execute_result",
          "data": {
            "text/plain": [
              "2595.932189020527"
            ]
          },
          "metadata": {
            "tags": []
          },
          "execution_count": 49
        }
      ]
    },
    {
      "cell_type": "code",
      "metadata": {
        "id": "w1vmv1RmmZMd"
      },
      "source": [
        "from sklearn.preprocessing import StandardScaler\n",
        "sc=StandardScaler()\n",
        "train=sc.fit_transform(train)\n",
        "test=sc.transform(test)"
      ],
      "execution_count": null,
      "outputs": []
    },
    {
      "cell_type": "code",
      "metadata": {
        "id": "eBJux4_FN5vM"
      },
      "source": [
        "dates=pd.to_datetime(test['DayOfWeek'])\n",
        "\n",
        "month=dates.dt.month\n",
        "year=dates.dt.year\n",
        "day=dates.dt.day\n",
        "\n",
        "test['Month']=month\n",
        "test['Day']=day\n",
        "test['Year']=year\n",
        "\n",
        "test.drop('Date',inplace=True,axis=1)\n",
        "test.drop('Store',inplace=True,axis=1)\n",
        "\n",
        "test['SchoolHoliday']=test['SchoolHoliday'].astype('category')\n",
        "test['StateHoliday']=test['StateHoliday'].astype('category')\n",
        "test['DayOfWeek']=test['DayOfWeek'].astype('category')\n",
        "test['Month']=test['Month'].astype('category')\n",
        "test['Day']=test['Day'].astype('category')\n",
        "test['Year']=test['Year'].astype('category')\n",
        "\n",
        "test=pd.get_dummies(data=test,drop_first=True)\n",
        "\n",
        "#target_sales=test.pop('Sales')"
      ],
      "execution_count": null,
      "outputs": []
    },
    {
      "cell_type": "code",
      "metadata": {
        "colab": {
          "base_uri": "https://localhost:8080/",
          "height": 419
        },
        "id": "Sx_0g0YjmVBy",
        "outputId": "922619a1-2d66-4194-f0bb-481849cfeeb0"
      },
      "source": [
        "test"
      ],
      "execution_count": null,
      "outputs": [
        {
          "output_type": "execute_result",
          "data": {
            "text/html": [
              "<div>\n",
              "<style scoped>\n",
              "    .dataframe tbody tr th:only-of-type {\n",
              "        vertical-align: middle;\n",
              "    }\n",
              "\n",
              "    .dataframe tbody tr th {\n",
              "        vertical-align: top;\n",
              "    }\n",
              "\n",
              "    .dataframe thead th {\n",
              "        text-align: right;\n",
              "    }\n",
              "</style>\n",
              "<table border=\"1\" class=\"dataframe\">\n",
              "  <thead>\n",
              "    <tr style=\"text-align: right;\">\n",
              "      <th></th>\n",
              "      <th>Open</th>\n",
              "      <th>Promo</th>\n",
              "      <th>DayOfWeek_2</th>\n",
              "      <th>DayOfWeek_3</th>\n",
              "      <th>DayOfWeek_4</th>\n",
              "      <th>DayOfWeek_5</th>\n",
              "      <th>DayOfWeek_6</th>\n",
              "      <th>DayOfWeek_7</th>\n",
              "      <th>StateHoliday_a</th>\n",
              "      <th>StateHoliday_b</th>\n",
              "      <th>SchoolHoliday_1</th>\n",
              "    </tr>\n",
              "  </thead>\n",
              "  <tbody>\n",
              "    <tr>\n",
              "      <th>0</th>\n",
              "      <td>0</td>\n",
              "      <td>0</td>\n",
              "      <td>0</td>\n",
              "      <td>0</td>\n",
              "      <td>0</td>\n",
              "      <td>0</td>\n",
              "      <td>0</td>\n",
              "      <td>0</td>\n",
              "      <td>0</td>\n",
              "      <td>1</td>\n",
              "      <td>1</td>\n",
              "    </tr>\n",
              "    <tr>\n",
              "      <th>1</th>\n",
              "      <td>1</td>\n",
              "      <td>0</td>\n",
              "      <td>0</td>\n",
              "      <td>0</td>\n",
              "      <td>0</td>\n",
              "      <td>0</td>\n",
              "      <td>1</td>\n",
              "      <td>0</td>\n",
              "      <td>0</td>\n",
              "      <td>0</td>\n",
              "      <td>0</td>\n",
              "    </tr>\n",
              "    <tr>\n",
              "      <th>2</th>\n",
              "      <td>1</td>\n",
              "      <td>1</td>\n",
              "      <td>0</td>\n",
              "      <td>0</td>\n",
              "      <td>1</td>\n",
              "      <td>0</td>\n",
              "      <td>0</td>\n",
              "      <td>0</td>\n",
              "      <td>0</td>\n",
              "      <td>0</td>\n",
              "      <td>1</td>\n",
              "    </tr>\n",
              "    <tr>\n",
              "      <th>3</th>\n",
              "      <td>1</td>\n",
              "      <td>0</td>\n",
              "      <td>0</td>\n",
              "      <td>0</td>\n",
              "      <td>1</td>\n",
              "      <td>0</td>\n",
              "      <td>0</td>\n",
              "      <td>0</td>\n",
              "      <td>0</td>\n",
              "      <td>0</td>\n",
              "      <td>1</td>\n",
              "    </tr>\n",
              "    <tr>\n",
              "      <th>4</th>\n",
              "      <td>1</td>\n",
              "      <td>0</td>\n",
              "      <td>1</td>\n",
              "      <td>0</td>\n",
              "      <td>0</td>\n",
              "      <td>0</td>\n",
              "      <td>0</td>\n",
              "      <td>0</td>\n",
              "      <td>0</td>\n",
              "      <td>0</td>\n",
              "      <td>1</td>\n",
              "    </tr>\n",
              "    <tr>\n",
              "      <th>...</th>\n",
              "      <td>...</td>\n",
              "      <td>...</td>\n",
              "      <td>...</td>\n",
              "      <td>...</td>\n",
              "      <td>...</td>\n",
              "      <td>...</td>\n",
              "      <td>...</td>\n",
              "      <td>...</td>\n",
              "      <td>...</td>\n",
              "      <td>...</td>\n",
              "      <td>...</td>\n",
              "    </tr>\n",
              "    <tr>\n",
              "      <th>305158</th>\n",
              "      <td>1</td>\n",
              "      <td>1</td>\n",
              "      <td>1</td>\n",
              "      <td>0</td>\n",
              "      <td>0</td>\n",
              "      <td>0</td>\n",
              "      <td>0</td>\n",
              "      <td>0</td>\n",
              "      <td>0</td>\n",
              "      <td>0</td>\n",
              "      <td>1</td>\n",
              "    </tr>\n",
              "    <tr>\n",
              "      <th>305159</th>\n",
              "      <td>1</td>\n",
              "      <td>0</td>\n",
              "      <td>0</td>\n",
              "      <td>0</td>\n",
              "      <td>0</td>\n",
              "      <td>0</td>\n",
              "      <td>1</td>\n",
              "      <td>0</td>\n",
              "      <td>0</td>\n",
              "      <td>0</td>\n",
              "      <td>0</td>\n",
              "    </tr>\n",
              "    <tr>\n",
              "      <th>305160</th>\n",
              "      <td>1</td>\n",
              "      <td>0</td>\n",
              "      <td>0</td>\n",
              "      <td>0</td>\n",
              "      <td>0</td>\n",
              "      <td>0</td>\n",
              "      <td>0</td>\n",
              "      <td>0</td>\n",
              "      <td>0</td>\n",
              "      <td>0</td>\n",
              "      <td>0</td>\n",
              "    </tr>\n",
              "    <tr>\n",
              "      <th>305161</th>\n",
              "      <td>1</td>\n",
              "      <td>0</td>\n",
              "      <td>0</td>\n",
              "      <td>0</td>\n",
              "      <td>0</td>\n",
              "      <td>0</td>\n",
              "      <td>1</td>\n",
              "      <td>0</td>\n",
              "      <td>0</td>\n",
              "      <td>0</td>\n",
              "      <td>0</td>\n",
              "    </tr>\n",
              "    <tr>\n",
              "      <th>305162</th>\n",
              "      <td>1</td>\n",
              "      <td>0</td>\n",
              "      <td>0</td>\n",
              "      <td>0</td>\n",
              "      <td>0</td>\n",
              "      <td>0</td>\n",
              "      <td>1</td>\n",
              "      <td>0</td>\n",
              "      <td>0</td>\n",
              "      <td>0</td>\n",
              "      <td>0</td>\n",
              "    </tr>\n",
              "  </tbody>\n",
              "</table>\n",
              "<p>305163 rows × 11 columns</p>\n",
              "</div>"
            ],
            "text/plain": [
              "        Open  Promo  ...  StateHoliday_b  SchoolHoliday_1\n",
              "0          0      0  ...               1                1\n",
              "1          1      0  ...               0                0\n",
              "2          1      1  ...               0                1\n",
              "3          1      0  ...               0                1\n",
              "4          1      0  ...               0                1\n",
              "...      ...    ...  ...             ...              ...\n",
              "305158     1      1  ...               0                1\n",
              "305159     1      0  ...               0                0\n",
              "305160     1      0  ...               0                0\n",
              "305161     1      0  ...               0                0\n",
              "305162     1      0  ...               0                0\n",
              "\n",
              "[305163 rows x 11 columns]"
            ]
          },
          "metadata": {
            "tags": []
          },
          "execution_count": 39
        }
      ]
    },
    {
      "cell_type": "code",
      "metadata": {
        "id": "vLdT6aI8mbAk"
      },
      "source": [
        "train.drop(['StateHoliday_c','Customers'],axis=1,inplace=True)"
      ],
      "execution_count": null,
      "outputs": []
    },
    {
      "cell_type": "code",
      "metadata": {
        "id": "LZQ5gUCFmEaF"
      },
      "source": [
        "pred_train=RFr.predict(test)"
      ],
      "execution_count": null,
      "outputs": []
    },
    {
      "cell_type": "code",
      "metadata": {
        "colab": {
          "base_uri": "https://localhost:8080/"
        },
        "id": "o4tSM2wPmF9A",
        "outputId": "6a30e27f-502e-4993-d710-f7474c30d994"
      },
      "source": [
        "pred_train"
      ],
      "execution_count": null,
      "outputs": [
        {
          "output_type": "execute_result",
          "data": {
            "text/plain": [
              "array([   0.        , 5993.18622914, 7913.76783467, ..., 5969.95091468,\n",
              "       5993.18622914, 5993.18622914])"
            ]
          },
          "metadata": {
            "tags": []
          },
          "execution_count": 46
        }
      ]
    },
    {
      "cell_type": "code",
      "metadata": {
        "id": "FFDF6r8foTVh"
      },
      "source": [
        "import tensorflow as tf\n",
        "from tensorflow.keras.models import Sequential\n",
        "from tensorflow.keras.layers import Dense,Activation,Flatten\n",
        "\n",
        "\n",
        "model=Sequential()\n",
        "model.add(Dense(200,activation='relu'))\n",
        "model.add(Dense(200,activation='relu'))\n",
        "model.add(Dense(200,activation='relu'))\n",
        "model.add(Dense(200,activation='relu'))\n",
        "model.add(Dense(200,activation='relu'))\n",
        "model.add(Dense(1,activation='relu'))\n",
        "\n",
        "model.compile(optimizer='adam',\n",
        "    loss='mean_squared_error',\n",
        "    metrics=['RootMeanSquaredError'])"
      ],
      "execution_count": null,
      "outputs": []
    },
    {
      "cell_type": "code",
      "metadata": {
        "colab": {
          "base_uri": "https://localhost:8080/"
        },
        "id": "RbdWhSX6r_Oq",
        "outputId": "de72f968-d4c9-47ab-ac67-d94b4904ce53"
      },
      "source": [
        "model_history=model.fit(train,target,epochs=100)"
      ],
      "execution_count": null,
      "outputs": [
        {
          "output_type": "stream",
          "text": [
            "Epoch 1/100\n",
            "22252/22252 [==============================] - 81s 4ms/step - loss: 49836452.0000 - root_mean_squared_error: 7059.4937\n",
            "Epoch 2/100\n",
            "22252/22252 [==============================] - 81s 4ms/step - loss: 49836656.0000 - root_mean_squared_error: 7059.5083\n",
            "Epoch 3/100\n",
            " 4746/22252 [=====>........................] - ETA: 1:05 - loss: 50025640.0000 - root_mean_squared_error: 7072.8804"
          ],
          "name": "stdout"
        }
      ]
    },
    {
      "cell_type": "code",
      "metadata": {
        "id": "3hDWu-JAsMCf"
      },
      "source": [],
      "execution_count": null,
      "outputs": []
    }
  ]
}